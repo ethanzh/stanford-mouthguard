{
 "cells": [
  {
   "cell_type": "code",
   "execution_count": 103,
   "metadata": {},
   "outputs": [],
   "source": [
    "import pandas as pd\n",
    "import os\n",
    "import numpy as np\n",
    "\n",
    "pd.options.mode.chained_assignment = None  # default='warn'"
   ]
  },
  {
   "cell_type": "code",
   "execution_count": 104,
   "metadata": {},
   "outputs": [],
   "source": [
    "def load_files(practice_num):\n",
    "    \n",
    "    practice_num = str(practice_num)\n",
    "    ez = pd.read_csv(os.path.join('practice' + practice_num, 'ez.csv')) \n",
    "    sl = pd.read_csv(os.path.join('practice' + practice_num, 'sl.csv'))\n",
    "    \n",
    "    return ez, sl"
   ]
  },
  {
   "cell_type": "code",
   "execution_count": 105,
   "metadata": {},
   "outputs": [],
   "source": [
    "# Name columns\n",
    "\n",
    "def name_columns(ez, sl):\n",
    "    columns = ['hr_start', 'min_start', 'sec_start', 'frame_start', 'hr_end', 'min_end', 'sec_end', 'frame_end', 'filename', 'label', 'contacting object', 'opposing object', 'comments']\n",
    "    ez.columns = columns\n",
    "    sl.columns = columns\n",
    "    \n",
    "    return ez, sl"
   ]
  },
  {
   "cell_type": "code",
   "execution_count": 106,
   "metadata": {},
   "outputs": [],
   "source": [
    "# Get columns of interest\n",
    "\n",
    "def columns_of_interest(ez, sl):\n",
    "    columns_of_interest = ['hr_start', 'min_start', 'sec_start', 'label', 'contacting object', 'opposing object']\n",
    "    ez = ez[columns_of_interest]\n",
    "    sl = sl[columns_of_interest]\n",
    "    \n",
    "    return ez, sl"
   ]
  },
  {
   "cell_type": "code",
   "execution_count": 107,
   "metadata": {},
   "outputs": [],
   "source": [
    "# Cut off first index because Google Docs included titles as a row\n",
    "\n",
    "def remove_first(ez, sl):\n",
    "    ez = ez[1:]\n",
    "    sl = sl[1:]\n",
    "    \n",
    "    return ez, sl"
   ]
  },
  {
   "cell_type": "code",
   "execution_count": 108,
   "metadata": {},
   "outputs": [],
   "source": [
    "# Get only instances with head contact (HC label)\n",
    "\n",
    "def isolate_hc(ez, sl):\n",
    "    ez = ez[ez['label'] == 'HC']\n",
    "    sl = sl[sl['label'] == 'HC']\n",
    "    \n",
    "    return ez, sl"
   ]
  },
  {
   "cell_type": "code",
   "execution_count": 109,
   "metadata": {},
   "outputs": [],
   "source": [
    "# Combine both into one DataFrame\n",
    "\n",
    "def combine(ez, sl):\n",
    "\n",
    "    df = pd.concat([ez, sl])\n",
    "    df.sort_values(['hr_start', 'min_start', 'sec_start'])\n",
    "    \n",
    "    return df"
   ]
  },
  {
   "cell_type": "code",
   "execution_count": 110,
   "metadata": {},
   "outputs": [],
   "source": [
    "# Remove duplicate values\n",
    "\n",
    "def drop_duplicates(df):\n",
    "\n",
    "    df = df.drop_duplicates(subset=['hr_start', 'min_start', 'sec_start'], keep='last')\n",
    "    \n",
    "    return df"
   ]
  },
  {
   "cell_type": "code",
   "execution_count": 111,
   "metadata": {},
   "outputs": [],
   "source": [
    "def labels_as_strings(ez, sl):\n",
    "    ez['label'] = ez['label'].astype(str)\n",
    "    sl['label'] = sl['label'].astype(str)\n",
    "    \n",
    "    return ez, sl"
   ]
  },
  {
   "cell_type": "code",
   "execution_count": 144,
   "metadata": {},
   "outputs": [],
   "source": [
    "# Return number of head collisions\n",
    "\n",
    "def count_head_impacts(df):\n",
    "\n",
    "    return df['label'].value_counts()['HC']"
   ]
  },
  {
   "cell_type": "code",
   "execution_count": 131,
   "metadata": {},
   "outputs": [],
   "source": [
    "def play_counter_row(df):\n",
    "    \n",
    "    y_cond = (df['label'].shift(1) == 'NC') & (df['label'] != 'NC')\n",
    "\n",
    "    df['play'] = np.where(y_cond, '1', '0')\n",
    "\n",
    "    return df"
   ]
  },
  {
   "cell_type": "code",
   "execution_count": 132,
   "metadata": {},
   "outputs": [],
   "source": [
    "def prep_data_pipeline(ez, sl):\n",
    "    \n",
    "    ez, sl = name_columns(ez, sl)\n",
    "    \n",
    "    ez, sl = columns_of_interest(ez, sl)\n",
    "    \n",
    "    ez, sl = labels_as_strings(ez, sl)\n",
    "    \n",
    "    ez, sl = remove_first(ez, sl)\n",
    "    \n",
    "    return ez, sl\n",
    "    "
   ]
  },
  {
   "cell_type": "code",
   "execution_count": 150,
   "metadata": {},
   "outputs": [],
   "source": [
    "def average_hc_practice(practice_list):\n",
    "    total = 0\n",
    "\n",
    "    for i in practice_list:\n",
    "        total += hc_per_practice(i)\n",
    "    \n",
    "    return total / len(practices)"
   ]
  },
  {
   "cell_type": "code",
   "execution_count": 151,
   "metadata": {},
   "outputs": [],
   "source": [
    "# Returns (mean, std)\n",
    "def average_hc_play(practice_list):\n",
    "    total = 0\n",
    "    lyst = []\n",
    "\n",
    "    for i in practice_list:\n",
    "        lyst.append(hc_per_play(i))\n",
    "        total += hc_per_play(i)\n",
    "    \n",
    "    mean = total / len(practices)\n",
    "    std = np.std(lyst)\n",
    "    \n",
    "    return mean, std"
   ]
  },
  {
   "cell_type": "code",
   "execution_count": 152,
   "metadata": {},
   "outputs": [],
   "source": [
    "# Calculates head contacts per practice\n",
    "\n",
    "def hc_per_practice(number):\n",
    "    \n",
    "    ez, sl = load_files(number)\n",
    "    \n",
    "    ez, sl = prep_data_pipeline(ez, sl)\n",
    "    \n",
    "    ez, sl = isolate_hc(ez, sl)\n",
    "    \n",
    "    df = combine(ez, sl)\n",
    "    \n",
    "    df = drop_duplicates(df)\n",
    "    \n",
    "    count = count_head_impacts(df)\n",
    "    \n",
    "    return count\n",
    "    \n",
    "    "
   ]
  },
  {
   "cell_type": "code",
   "execution_count": 153,
   "metadata": {},
   "outputs": [],
   "source": [
    "# Calculates average head impacts per play\n",
    "\n",
    "def hc_per_play(number):\n",
    "    \n",
    "    ez, sl = load_files(number)\n",
    "    \n",
    "    ez, sl = prep_data_pipeline(ez, sl)\n",
    "    \n",
    "    df = combine(ez, sl)\n",
    "    \n",
    "    df = drop_duplicates(df)\n",
    "    \n",
    "    df = play_counter_row(df)\n",
    "    \n",
    "    plays = df.shape[0] - (df['play'].value_counts()['0'])\n",
    "    \n",
    "    hc = df['label'].value_counts()['HC']\n",
    "    \n",
    "    return hc / plays"
   ]
  },
  {
   "cell_type": "code",
   "execution_count": 154,
   "metadata": {},
   "outputs": [
    {
     "name": "stdout",
     "output_type": "stream",
     "text": [
      "12.3333333333 head contacts per practice\n"
     ]
    }
   ],
   "source": [
    "practices = [1, 2, 3]\n",
    "\n",
    "print(average_hc_practice(practices), \"head contacts per practice\")"
   ]
  },
  {
   "cell_type": "code",
   "execution_count": 156,
   "metadata": {},
   "outputs": [
    {
     "name": "stdout",
     "output_type": "stream",
     "text": [
      "0.0669637708005 head contacts per play\n"
     ]
    }
   ],
   "source": [
    "print(average_hc_play(practices)[1], \"head contacts per play\")"
   ]
  },
  {
   "cell_type": "code",
   "execution_count": null,
   "metadata": {},
   "outputs": [],
   "source": []
  }
 ],
 "metadata": {
  "kernelspec": {
   "display_name": "Python 3",
   "language": "python",
   "name": "python3"
  },
  "language_info": {
   "codemirror_mode": {
    "name": "ipython",
    "version": 3
   },
   "file_extension": ".py",
   "mimetype": "text/x-python",
   "name": "python",
   "nbconvert_exporter": "python",
   "pygments_lexer": "ipython3",
   "version": "3.6.3"
  }
 },
 "nbformat": 4,
 "nbformat_minor": 2
}
