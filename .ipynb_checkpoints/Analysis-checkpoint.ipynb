{
 "cells": [
  {
   "cell_type": "code",
   "execution_count": 2,
   "metadata": {},
   "outputs": [],
   "source": [
    "import pandas as pd\n",
    "import os\n",
    "import numpy as np\n",
    "\n",
    "pd.options.mode.chained_assignment = None  # default='warn'"
   ]
  },
  {
   "cell_type": "code",
   "execution_count": 3,
   "metadata": {},
   "outputs": [],
   "source": [
    "def load_files(practice_num):\n",
    "    \n",
    "    practice_num = str(practice_num)\n",
    "    ez = pd.read_csv(os.path.join('practice' + practice_num, 'ez.csv')) \n",
    "    sl = pd.read_csv(os.path.join('practice' + practice_num, 'sl.csv'))\n",
    "    \n",
    "    return ez, sl"
   ]
  },
  {
   "cell_type": "code",
   "execution_count": 4,
   "metadata": {},
   "outputs": [],
   "source": [
    "# Name columns\n",
    "\n",
    "def name_columns(ez, sl):\n",
    "    columns = ['hr_start', 'min_start', 'sec_start', 'frame_start', 'hr_end', 'min_end', 'sec_end', 'frame_end', 'filename', 'label', 'contacting object', 'opposing object', 'comments']\n",
    "    ez.columns = columns\n",
    "    sl.columns = columns\n",
    "    \n",
    "    return ez, sl"
   ]
  },
  {
   "cell_type": "code",
   "execution_count": 5,
   "metadata": {},
   "outputs": [],
   "source": [
    "# Get columns of interest\n",
    "\n",
    "def columns_of_interest(ez, sl):\n",
    "    columns_of_interest = ['hr_start', 'min_start', 'sec_start', 'label', 'contacting object', 'opposing object']\n",
    "    ez = ez[columns_of_interest]\n",
    "    sl = sl[columns_of_interest]\n",
    "    \n",
    "    return ez, sl"
   ]
  },
  {
   "cell_type": "code",
   "execution_count": 6,
   "metadata": {},
   "outputs": [],
   "source": [
    "# Cut off first index because Google Docs included titles as a row\n",
    "\n",
    "def remove_first(ez, sl):\n",
    "    ez = ez[1:]\n",
    "    sl = sl[1:]\n",
    "    \n",
    "    return ez, sl"
   ]
  },
  {
   "cell_type": "code",
   "execution_count": 7,
   "metadata": {},
   "outputs": [],
   "source": [
    "# Get only instances with head contact (HC label)\n",
    "\n",
    "def isolate_hc(ez, sl):\n",
    "    ez = ez[ez['label'] == 'HC']\n",
    "    sl = sl[sl['label'] == 'HC']\n",
    "    \n",
    "    return ez, sl"
   ]
  },
  {
   "cell_type": "code",
   "execution_count": 8,
   "metadata": {},
   "outputs": [],
   "source": [
    "# Combine both into one DataFrame\n",
    "\n",
    "def combine(ez, sl):\n",
    "\n",
    "    df = pd.concat([ez, sl])\n",
    "    df.sort_values(['hr_start', 'min_start', 'sec_start'])\n",
    "    \n",
    "    return df"
   ]
  },
  {
   "cell_type": "code",
   "execution_count": 9,
   "metadata": {},
   "outputs": [],
   "source": [
    "# Remove duplicate values\n",
    "\n",
    "def drop_duplicates(df):\n",
    "\n",
    "    df = df.drop_duplicates(subset=['hr_start', 'min_start', 'sec_start'], keep='last')\n",
    "    \n",
    "    return df"
   ]
  },
  {
   "cell_type": "code",
   "execution_count": 10,
   "metadata": {},
   "outputs": [],
   "source": [
    "def labels_as_strings(ez, sl):\n",
    "    ez['label'] = ez['label'].astype(str)\n",
    "    sl['label'] = sl['label'].astype(str)\n",
    "    \n",
    "    return ez, sl"
   ]
  },
  {
   "cell_type": "code",
   "execution_count": 11,
   "metadata": {},
   "outputs": [],
   "source": [
    "# Return number of head collisions\n",
    "\n",
    "def count_head_impacts(df):\n",
    "\n",
    "    return df['label'].value_counts()['HC']"
   ]
  },
  {
   "cell_type": "code",
   "execution_count": 12,
   "metadata": {},
   "outputs": [],
   "source": [
    "def play_counter_row(df):\n",
    "    \n",
    "    y_cond = (df['label'].shift(1) == 'NC') & (df['label'] != 'NC')\n",
    "\n",
    "    df['play'] = np.where(y_cond, '1', '0')\n",
    "\n",
    "    return df"
   ]
  },
  {
   "cell_type": "code",
   "execution_count": 13,
   "metadata": {},
   "outputs": [],
   "source": [
    "def prep_data_pipeline(ez, sl):\n",
    "    \n",
    "    ez, sl = name_columns(ez, sl)\n",
    "    \n",
    "    ez, sl = columns_of_interest(ez, sl)\n",
    "    \n",
    "    ez, sl = labels_as_strings(ez, sl)\n",
    "    \n",
    "    ez, sl = remove_first(ez, sl)\n",
    "    \n",
    "    return ez, sl  "
   ]
  },
  {
   "cell_type": "code",
   "execution_count": 14,
   "metadata": {},
   "outputs": [],
   "source": [
    "def hc_practice(practice_list):\n",
    "    total = 0\n",
    "    lyst = []\n",
    "\n",
    "    for i in practice_list:\n",
    "        total += hc_per_practice(i)\n",
    "        lyst.append(hc_per_practice(i))\n",
    "    \n",
    "    return lyst"
   ]
  },
  {
   "cell_type": "code",
   "execution_count": 15,
   "metadata": {},
   "outputs": [],
   "source": [
    "# Returns (mean, std)\n",
    "\n",
    "def average_hc_play(practice_list):\n",
    "    total = 0\n",
    "    lyst = []\n",
    "\n",
    "    for i in practice_list:\n",
    "        lyst.append(hc_per_play(i))\n",
    "        total += hc_per_play(i)\n",
    "    \n",
    "    mean = total / len(practices)\n",
    "    std = np.std(lyst)\n",
    "    \n",
    "    return lyst"
   ]
  },
  {
   "cell_type": "code",
   "execution_count": 16,
   "metadata": {},
   "outputs": [],
   "source": [
    "# Calculates head contacts per practice\n",
    "\n",
    "def hc_per_practice(number):\n",
    "    \n",
    "    ez, sl = load_files(number)\n",
    "    \n",
    "    ez, sl = prep_data_pipeline(ez, sl)\n",
    "    \n",
    "    ez, sl = isolate_hc(ez, sl)\n",
    "    \n",
    "    df = combine(ez, sl)\n",
    "    \n",
    "    df = drop_duplicates(df)\n",
    "    \n",
    "    count = count_head_impacts(df)\n",
    "    \n",
    "    return count"
   ]
  },
  {
   "cell_type": "code",
   "execution_count": 17,
   "metadata": {},
   "outputs": [],
   "source": [
    "# Calculates average head impacts per play\n",
    "\n",
    "def hc_per_play(number):\n",
    "    \n",
    "    ez, sl = load_files(number)\n",
    "    \n",
    "    ez, sl = prep_data_pipeline(ez, sl)\n",
    "    \n",
    "    df = combine(ez, sl)\n",
    "    \n",
    "    df = drop_duplicates(df)\n",
    "    \n",
    "    df = play_counter_row(df)\n",
    "    \n",
    "    plays = df.shape[0] - (df['play'].value_counts()['0'])\n",
    "    \n",
    "    hc = df['label'].value_counts()['HC']\n",
    "    \n",
    "    return hc / plays"
   ]
  },
  {
   "cell_type": "code",
   "execution_count": 18,
   "metadata": {},
   "outputs": [],
   "source": [
    "def hc_combos(number):\n",
    "    \n",
    "    frames = []\n",
    "    \n",
    "    for i in number:\n",
    "        ez, sl = load_files(i)\n",
    "\n",
    "        ez, sl = prep_data_pipeline(ez, sl)\n",
    "\n",
    "        df = combine(ez, sl)\n",
    "\n",
    "        df = drop_duplicates(df)\n",
    "        \n",
    "        frames.append(df)\n",
    "\n",
    "    new_df = pd.concat(frames)\n",
    "    \n",
    "    return new_df"
   ]
  },
  {
   "cell_type": "code",
   "execution_count": 19,
   "metadata": {},
   "outputs": [
    {
     "data": {
      "text/html": [
       "<div>\n",
       "<style>\n",
       "    .dataframe thead tr:only-child th {\n",
       "        text-align: right;\n",
       "    }\n",
       "\n",
       "    .dataframe thead th {\n",
       "        text-align: left;\n",
       "    }\n",
       "\n",
       "    .dataframe tbody tr th {\n",
       "        vertical-align: top;\n",
       "    }\n",
       "</style>\n",
       "<table border=\"1\" class=\"dataframe\">\n",
       "  <thead>\n",
       "    <tr style=\"text-align: right;\">\n",
       "      <th></th>\n",
       "      <th>hc per play</th>\n",
       "      <th>hc per practice</th>\n",
       "    </tr>\n",
       "  </thead>\n",
       "  <tbody>\n",
       "    <tr>\n",
       "      <th>0</th>\n",
       "      <td>0.428571</td>\n",
       "      <td>15</td>\n",
       "    </tr>\n",
       "    <tr>\n",
       "      <th>1</th>\n",
       "      <td>0.264706</td>\n",
       "      <td>10</td>\n",
       "    </tr>\n",
       "    <tr>\n",
       "      <th>2</th>\n",
       "      <td>0.352941</td>\n",
       "      <td>12</td>\n",
       "    </tr>\n",
       "  </tbody>\n",
       "</table>\n",
       "</div>"
      ],
      "text/plain": [
       "   hc per play  hc per practice\n",
       "0     0.428571               15\n",
       "1     0.264706               10\n",
       "2     0.352941               12"
      ]
     },
     "execution_count": 19,
     "metadata": {},
     "output_type": "execute_result"
    }
   ],
   "source": [
    "practices = [1, 2, 3]\n",
    "\n",
    "hc_per_practice = hc_practice(practices)\n",
    "hc_per_play = average_hc_play(practices)\n",
    "\n",
    "raw_data_dict = {\n",
    "    \n",
    "    'hc per practice': hc_per_practice,\n",
    "    \n",
    "    'hc per play': hc_per_play\n",
    "    \n",
    "}\n",
    "\n",
    "raw_data = pd.DataFrame(data=raw_data_dict)\n",
    "\n",
    "raw_data"
   ]
  },
  {
   "cell_type": "code",
   "execution_count": 20,
   "metadata": {},
   "outputs": [
    {
     "name": "stdout",
     "output_type": "stream",
     "text": [
      "Average HC per practice: 12.33 \n",
      "Average HC per play: 0.35 \n",
      "Standard dev. per play: 0.07\n"
     ]
    }
   ],
   "source": [
    "avg_hc_practice = raw_data['hc per practice'].mean()\n",
    "avg_hc_play = raw_data['hc per play'].mean()\n",
    "std_hc_play = np.std(hc_per_play)\n",
    "\n",
    "print(\n",
    "    \"Average HC per practice: \" + str(round(avg_hc_practice, 2)),\n",
    "    \n",
    "    \"\\nAverage HC per play: \" + str(round(avg_hc_play, 2)),\n",
    "    \n",
    "    \"\\nStandard dev. per play: \" + str(round(std_hc_play, 2))\n",
    ")"
   ]
  },
  {
   "cell_type": "code",
   "execution_count": 21,
   "metadata": {},
   "outputs": [
    {
     "data": {
      "text/html": [
       "<div>\n",
       "<style>\n",
       "    .dataframe thead tr:only-child th {\n",
       "        text-align: right;\n",
       "    }\n",
       "\n",
       "    .dataframe thead th {\n",
       "        text-align: left;\n",
       "    }\n",
       "\n",
       "    .dataframe tbody tr th {\n",
       "        vertical-align: top;\n",
       "    }\n",
       "</style>\n",
       "<table border=\"1\" class=\"dataframe\">\n",
       "  <thead>\n",
       "    <tr style=\"text-align: right;\">\n",
       "      <th></th>\n",
       "      <th>contacting object</th>\n",
       "      <th>opposing object</th>\n",
       "      <th>count</th>\n",
       "      <th>percent</th>\n",
       "    </tr>\n",
       "  </thead>\n",
       "  <tbody>\n",
       "    <tr>\n",
       "      <th>0</th>\n",
       "      <td>HF</td>\n",
       "      <td>B</td>\n",
       "      <td>2</td>\n",
       "      <td>5.6</td>\n",
       "    </tr>\n",
       "    <tr>\n",
       "      <th>1</th>\n",
       "      <td>HF</td>\n",
       "      <td>HF</td>\n",
       "      <td>22</td>\n",
       "      <td>61.1</td>\n",
       "    </tr>\n",
       "    <tr>\n",
       "      <th>2</th>\n",
       "      <td>HF</td>\n",
       "      <td>HT</td>\n",
       "      <td>1</td>\n",
       "      <td>2.8</td>\n",
       "    </tr>\n",
       "    <tr>\n",
       "      <th>3</th>\n",
       "      <td>HS</td>\n",
       "      <td>B</td>\n",
       "      <td>2</td>\n",
       "      <td>5.6</td>\n",
       "    </tr>\n",
       "    <tr>\n",
       "      <th>4</th>\n",
       "      <td>HS</td>\n",
       "      <td>HS</td>\n",
       "      <td>5</td>\n",
       "      <td>13.9</td>\n",
       "    </tr>\n",
       "    <tr>\n",
       "      <th>5</th>\n",
       "      <td>HT</td>\n",
       "      <td>B</td>\n",
       "      <td>3</td>\n",
       "      <td>8.3</td>\n",
       "    </tr>\n",
       "    <tr>\n",
       "      <th>6</th>\n",
       "      <td>HT</td>\n",
       "      <td>HF</td>\n",
       "      <td>1</td>\n",
       "      <td>2.8</td>\n",
       "    </tr>\n",
       "  </tbody>\n",
       "</table>\n",
       "</div>"
      ],
      "text/plain": [
       "  contacting object opposing object  count  percent\n",
       "0                HF               B      2      5.6\n",
       "1                HF              HF     22     61.1\n",
       "2                HF              HT      1      2.8\n",
       "3                HS               B      2      5.6\n",
       "4                HS              HS      5     13.9\n",
       "5                HT               B      3      8.3\n",
       "6                HT              HF      1      2.8"
      ]
     },
     "execution_count": 21,
     "metadata": {},
     "output_type": "execute_result"
    }
   ],
   "source": [
    "# Create one DataFrame with every row of every practice\n",
    "\n",
    "df = hc_combos(practices)\n",
    "df, df = isolate_hc(df, df)\n",
    "\n",
    "columns_of_interest = ['label', 'contacting object', 'opposing object']\n",
    "\n",
    "df = df[columns_of_interest]\n",
    "\n",
    "num_rows = df.shape[0]\n",
    "\n",
    "stats = df.groupby(['contacting object', 'opposing object']).size().reset_index().rename(columns={0:'count'})\n",
    "\n",
    "stats['percent'] = round(((stats['count'] / num_rows) * 100), 1)\n",
    "\n",
    "stats"
   ]
  },
  {
   "cell_type": "code",
   "execution_count": 22,
   "metadata": {},
   "outputs": [],
   "source": [
    "length = stats.shape[0]\n",
    "\n",
    "labels = []\n",
    "sizes = []\n",
    "\n",
    "for i in range(length):\n",
    "    labels.append(str(stats['contacting object'][i] + \"-\" + stats['opposing object'][i]))\n",
    "    sizes.append(round(int(stats['percent'][i]), 2))\n",
    "    \n",
    "labels = np.array(labels)\n",
    "sizes = np.array(sizes)\n",
    "\n",
    "inds = sizes.argsort()\n",
    "sizes = sizes[inds]\n",
    "labels = labels[inds]\n",
    "    "
   ]
  },
  {
   "cell_type": "code",
   "execution_count": 23,
   "metadata": {},
   "outputs": [
    {
     "data": {
      "image/png": "[encoded data removed]",
      "text/plain": [
       "<matplotlib.figure.Figure at 0x2560b788b38>"
      ]
     },
     "metadata": {},
     "output_type": "display_data"
    }
   ],
   "source": [
    "import matplotlib.pyplot as plt\n",
    "import pylab\n",
    "\n",
    "fig1, ax1 = plt.subplots()\n",
    "\n",
    "# Plot\n",
    "plt.pie(sizes, labels=labels,\n",
    "        autopct='%1.1f%%', shadow=False, startangle=180,\n",
    "       counterclock=False)\n",
    " \n",
    "plt.style.use('ggplot')\n",
    "plt.axis('equal')\n",
    "plt.suptitle('Distribution of Head Contact Types')\n",
    "plt.savefig('pie chart.png', dpi=1000)\n",
    "plt.show()"
   ]
  }
 ],
 "metadata": {
  "kernelspec": {
   "display_name": "Python 3",
   "language": "python",
   "name": "python3"
  },
  "language_info": {
   "codemirror_mode": {
    "name": "ipython",
    "version": 3
   },
   "file_extension": ".py",
   "mimetype": "text/x-python",
   "name": "python",
   "nbconvert_exporter": "python",
   "pygments_lexer": "ipython3",
   "version": "3.6.3"
  }
 },
 "nbformat": 4,
 "nbformat_minor": 2
}
